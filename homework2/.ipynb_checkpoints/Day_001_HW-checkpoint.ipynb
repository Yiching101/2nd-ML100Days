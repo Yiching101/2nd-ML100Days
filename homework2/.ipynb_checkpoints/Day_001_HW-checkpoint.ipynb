{
 "cells": [
  {
   "cell_type": "markdown",
   "metadata": {},
   "source": [
    "1-1 For one of the Kaggle competition: \n",
    "https://www.kaggle.com/c/house-prices-advanced-regression-techniques\n",
    "\n",
    "#1. 你選的這組資料為何重要?\n",
    "Ans: So we can practice how to predict the final price of each home.\n",
    "    \n",
    "#2. 資料從何而來 (tips: 譬如提供者是誰、以什麼方式蒐集)\n",
    "Ans: This dataset is compiled ted by Dean De Cock\n",
    "\n",
    "#3. 蒐集而來的資料型態為何\n",
    "Ans: It's CSV files.\n",
    "    \n",
    "#4. 這組資料想解決的問題如何評估\n",
    "Ans: a\n"
   ]
  },
  {
   "cell_type": "code",
   "execution_count": null,
   "metadata": {},
   "outputs": [],
   "source": []
  }
 ],
 "metadata": {
  "kernelspec": {
   "display_name": "Python 3",
   "language": "python",
   "name": "python3"
  },
  "language_info": {
   "codemirror_mode": {
    "name": "ipython",
    "version": 3
   },
   "file_extension": ".py",
   "mimetype": "text/x-python",
   "name": "python",
   "nbconvert_exporter": "python",
   "pygments_lexer": "ipython3",
   "version": "3.7.3"
  }
 },
 "nbformat": 4,
 "nbformat_minor": 2
}
